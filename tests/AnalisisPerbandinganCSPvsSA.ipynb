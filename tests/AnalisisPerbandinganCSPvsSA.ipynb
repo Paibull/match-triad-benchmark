{
  "nbformat": 4,
  "nbformat_minor": 0,
  "metadata": {
    "colab": {
      "provenance": []
    },
    "kernelspec": {
      "name": "python3",
      "display_name": "Python 3"
    },
    "language_info": {
      "name": "python"
    }
  },
  "cells": [
    {
      "cell_type": "code",
      "execution_count": 2,
      "metadata": {
        "id": "iuTZW2_Tt2CB"
      },
      "outputs": [],
      "source": [
        "import random\n",
        "import time\n",
        "import numpy as np\n",
        "import pandas as pd"
      ]
    },
    {
      "cell_type": "markdown",
      "source": [
        "### 🔧 Data Generator\n",
        "\n",
        "Fungsi `generate_data(n_murid, n_tutor)` digunakan untuk membuat dataset simulasi matching antara murid dan tutor.\n",
        "\n",
        "- Setiap murid diwakili dengan ID integer.\n",
        "- Setiap tutor memiliki kapasitas (1–3 murid).\n",
        "- Preferensi antara murid-tutor dinilai berdasarkan 4 aspek:\n",
        "  - Kecocokan waktu\n",
        "  - Kecocokan topik\n",
        "  - Mode belajar\n",
        "  - Gaya belajar\n",
        "\n",
        "Preferensi ini dinyatakan dengan nilai 0 atau 1 dan disimpan dalam dictionary berpasangan (murid, tutor).\n"
      ],
      "metadata": {
        "id": "VJgyE7N_vYCM"
      }
    },
    {
      "cell_type": "code",
      "source": [
        "def generate_data(n_murid, n_tutor, seed=42):\n",
        "    random.seed(seed)\n",
        "    murid = list(range(n_murid))\n",
        "    tutor = list(range(n_tutor))\n",
        "    kapasitas = {t: random.randint(1, 3) for t in tutor}\n",
        "    preferensi = {\n",
        "        (m, t): {\n",
        "            \"waktu\": random.randint(0, 1),\n",
        "            \"topik\": random.randint(0, 1),\n",
        "            \"mode\": random.randint(0, 1),\n",
        "            \"gaya\": random.randint(0, 1),\n",
        "        }\n",
        "        for m in murid for t in tutor\n",
        "    }\n",
        "    return murid, tutor, kapasitas, preferensi"
      ],
      "metadata": {
        "id": "nxpQORUJuxnO"
      },
      "execution_count": 4,
      "outputs": []
    },
    {
      "cell_type": "markdown",
      "source": [
        "### 🧩 CSP Matching (Sederhana)\n",
        "\n",
        "Fungsi `csp_matching()` mencoba membuat assignment satu-per-satu berdasarkan sisa kapasitas tutor.\n",
        "\n",
        "- Untuk setiap murid, fungsi akan memilih tutor pertama yang memiliki kapasitas tersisa.\n",
        "- Tidak memperhitungkan skor preferensi, fokus pada constraint kapasitas.\n",
        "\n",
        "Kelebihan:\n",
        "- Sangat cepat (greedy).\n",
        "- Solusi valid terhadap constraint kapasitas.\n",
        "\n",
        "Kekurangan:\n",
        "- Tidak optimal dalam hal kualitas preferensi (skor total rendah).\n"
      ],
      "metadata": {
        "id": "yIcRAnlCveyb"
      }
    },
    {
      "cell_type": "code",
      "source": [
        "def csp_matching(murid, tutor, kapasitas, preferensi):\n",
        "    assignment = {}\n",
        "    sisa_kapasitas = kapasitas.copy()\n",
        "    for m in murid:\n",
        "        for t in tutor:\n",
        "            if sisa_kapasitas[t] > 0:\n",
        "                assignment[m] = t\n",
        "                sisa_kapasitas[t] -= 1\n",
        "                break\n",
        "    return assignment"
      ],
      "metadata": {
        "id": "2ezpPQ4Zu0Mr"
      },
      "execution_count": 5,
      "outputs": []
    },
    {
      "cell_type": "markdown",
      "source": [
        "### 🔥 Simulated Annealing (SA) Matching\n",
        "\n",
        "Fungsi `sa_matching()` menerapkan algoritma **Simulated Annealing** untuk mengeksplorasi solusi matching dengan skor preferensi setinggi mungkin.\n",
        "\n",
        "- Inisialisasi dengan solusi acak.\n",
        "- Pada setiap iterasi:\n",
        "  - Pilih satu murid secara acak dan coba tukar tutornya.\n",
        "  - Hitung perubahan skor total (`Δ`).\n",
        "  - Jika `Δ > 0`, terima perubahan.\n",
        "  - Jika `Δ < 0`, terima dengan probabilitas `p = exp(Δ / T)`.\n",
        "- Temperatur `T` menurun perlahan (cooling schedule) untuk mengurangi eksplorasi buruk seiring waktu.\n",
        "\n",
        "SA memungkinkan untuk:\n",
        "- Mencapai solusi berkualitas tinggi.\n",
        "- Keluar dari jebakan lokal dengan mekanisme probabilistik.\n"
      ],
      "metadata": {
        "id": "xmMHiFzevgxy"
      }
    },
    {
      "cell_type": "code",
      "source": [
        "def sa_matching(murid, tutor, kapasitas, preferensi, T0=1.0, cooling=0.99, steps=1000):\n",
        "    current = {m: random.choice(tutor) for m in murid}\n",
        "    best = current.copy()\n",
        "\n",
        "    def score(assign):\n",
        "        return sum(sum(preferensi[(m, t)].values()) for m, t in assign.items())\n",
        "\n",
        "    best_score = score(current)\n",
        "    T = T0\n",
        "\n",
        "    for _ in range(steps):\n",
        "        new = current.copy()\n",
        "        m = random.choice(murid)\n",
        "        new[m] = random.choice(tutor)\n",
        "        delta = score(new) - score(current)\n",
        "        if delta > 0 or random.random() < np.exp(delta / T):\n",
        "            current = new\n",
        "            if score(current) > best_score:\n",
        "                best = current\n",
        "                best_score = score(current)\n",
        "        T *= cooling\n",
        "\n",
        "    return best"
      ],
      "metadata": {
        "id": "pLOlv8L1u11O"
      },
      "execution_count": 6,
      "outputs": []
    },
    {
      "cell_type": "markdown",
      "source": [
        "### 📊 Evaluasi Kualitas Solusi dan Constraint\n",
        "\n",
        "Fungsi `evaluate()` menghitung dua metrik utama untuk setiap hasil matching:\n",
        "\n",
        "1. **Skor Total**: jumlah poin dari seluruh aspek preferensi yang cocok.\n",
        "2. **Persentase Constraint Terpenuhi**: dihitung dari (jumlah atribut cocok) dibagi total maksimum (4 aspek × jumlah murid).\n",
        "\n",
        "Ini membantu menilai:\n",
        "- Seberapa baik kualitas solusi (tingginya skor).\n",
        "- Seberapa banyak preferensi pengguna yang berhasil dipenuhi.\n"
      ],
      "metadata": {
        "id": "D6Ir1zxNvk2M"
      }
    },
    {
      "cell_type": "code",
      "source": [
        "def evaluate(matching, preferensi):\n",
        "    total_score = sum(sum(preferensi[(m, t)].values()) for m, t in matching.items())\n",
        "    total_constraint = 4 * len(matching)\n",
        "    terpenuhi = total_score\n",
        "    persentase = terpenuhi / total_constraint * 100\n",
        "    return total_score, persentase"
      ],
      "metadata": {
        "id": "iG6HJHqiu32U"
      },
      "execution_count": 7,
      "outputs": []
    },
    {
      "cell_type": "markdown",
      "source": [
        "### 🚀 Eksperimen CSP vs SA Matching\n",
        "\n",
        "Fungsi `run_test()` menjalankan evaluasi pada tiga ukuran data berbeda: 5, 10, dan 20 pasangan.\n",
        "\n",
        "- Untuk setiap ukuran:\n",
        "  - Generate data\n",
        "  - Jalankan CSP Matching → ukur waktu dan skor\n",
        "  - Jalankan SA Matching → ukur waktu dan skor\n",
        "- Hasil disimpan dalam DataFrame.\n",
        "\n",
        "Metrik yang dibandingkan:\n",
        "- Skor total (kualitas solusi)\n",
        "- % constraint terpenuhi (preferensi)\n",
        "- Waktu eksekusi (perf_counter)\n"
      ],
      "metadata": {
        "id": "wa9_1m8KvnbL"
      }
    },
    {
      "cell_type": "code",
      "source": [
        "def run_test():\n",
        "    results = []\n",
        "    for size in [5, 10, 20]:\n",
        "        murid, tutor, kapasitas, preferensi = generate_data(size, size)\n",
        "\n",
        "        # CSP\n",
        "        t0 = time.perf_counter()\n",
        "        csp_match = csp_matching(murid, tutor, kapasitas, preferensi)\n",
        "        t1 = time.perf_counter()\n",
        "        csp_score, csp_constraint = evaluate(csp_match, preferensi)\n",
        "\n",
        "        # SA\n",
        "        t2 = time.perf_counter()\n",
        "        sa_match = sa_matching(murid, tutor, kapasitas, preferensi)\n",
        "        t3 = time.perf_counter()\n",
        "        sa_score, sa_constraint = evaluate(sa_match, preferensi)\n",
        "\n",
        "        results.append({\n",
        "            \"Ukuran\": size,\n",
        "            \"CSP_Skor\": csp_score,\n",
        "            \"CSP_%Constraint\": round(csp_constraint, 2),\n",
        "            \"CSP_Waktu (s)\": round(t1 - t0, 6),\n",
        "            \"SA_Skor\": sa_score,\n",
        "            \"SA_%Constraint\": round(sa_constraint, 2),\n",
        "            \"SA_Waktu (s)\": round(t3 - t2, 6)\n",
        "        })\n",
        "\n",
        "    return pd.DataFrame(results)"
      ],
      "metadata": {
        "id": "gmr_Lhl8u5VL"
      },
      "execution_count": 8,
      "outputs": []
    },
    {
      "cell_type": "markdown",
      "source": [
        "### 📈 Hasil Akhir dan Kesimpulan\n",
        "\n",
        "Dengan menjalankan `run_test()`, kita bisa membandingkan efektivitas dan efisiensi CSP vs SA untuk berbagai ukuran dataset.\n",
        "\n",
        "📌 Gunakan tabel hasil untuk menganalisis:\n",
        "- Mana algoritma yang memberikan **skor lebih tinggi**?\n",
        "- Mana yang lebih cepat?\n",
        "- Seberapa besar preferensi user bisa dipenuhi oleh tiap algoritma?\n",
        "\n",
        "Visualisasi tambahan seperti grafik waktu dan kualitas bisa ditambahkan untuk memperkuat analisis.\n"
      ],
      "metadata": {
        "id": "QO2XRydvvqQ7"
      }
    },
    {
      "cell_type": "code",
      "source": [
        "df = run_test()\n",
        "print(\"\\nHasil Evaluasi CSP vs Simulated Annealing:\\n\")\n",
        "print(df.to_string(index=False))"
      ],
      "metadata": {
        "colab": {
          "base_uri": "https://localhost:8080/"
        },
        "id": "si6TSjvfu7fu",
        "outputId": "282527e6-87c9-4b4c-bffe-a57c3f06599c"
      },
      "execution_count": 9,
      "outputs": [
        {
          "output_type": "stream",
          "name": "stdout",
          "text": [
            "\n",
            "Hasil Evaluasi CSP vs Simulated Annealing:\n",
            "\n",
            " Ukuran  CSP_Skor  CSP_%Constraint  CSP_Waktu (s)  SA_Skor  SA_%Constraint  SA_Waktu (s)\n",
            "      5         5             25.0       0.000006       15            75.0      0.008956\n",
            "     10        18             45.0       0.000006       33            82.5      0.011274\n",
            "     20        38             47.5       0.000012       74            92.5      0.017010\n"
          ]
        }
      ]
    },
    {
      "cell_type": "markdown",
      "source": [
        "## 📊 Analisis Hasil Evaluasi CSP vs Simulated Annealing\n",
        "\n",
        "### 📌 Tujuan Evaluasi\n",
        "Membandingkan performa dua algoritma — **CSP (Constraint Satisfaction Problem)** dan **Simulated Annealing (SA)** — dalam menyelesaikan masalah matching 1-on-1 (tutor-murid), berdasarkan:\n",
        "\n",
        "1. **Kualitas Solusi** (Skor preferensi total)\n",
        "2. **Pemenuhan Constraint** (% atribut preferensi yang cocok)\n",
        "3. **Waktu Eksekusi**\n",
        "4. **Skalabilitas saat ukuran data bertambah**\n",
        "\n",
        "---\n",
        "\n",
        "### 📈 Hasil Pengamatan\n",
        "\n",
        "| Ukuran | CSP_Skor | CSP_%Constraint | CSP_Waktu (s) | SA_Skor | SA_%Constraint | SA_Waktu (s) |\n",
        "|--------|----------|------------------|----------------|---------|----------------|----------------|\n",
        "|   5    |    5     |      25.0%       |    0.000006    |   15    |     75.0%      |    0.008956    |\n",
        "|  10    |   18     |      45.0%       |    0.000006    |   33    |     82.5%      |    0.011274    |\n",
        "|  20    |   38     |      47.5%       |    0.000012    |   74    |     92.5%      |    0.017010    |\n",
        "\n",
        "---\n",
        "\n",
        "### 🔍 Analisis:\n",
        "\n",
        "#### ✅ **Kualitas Solusi (Skor)**\n",
        "- SA menghasilkan skor **jauh lebih tinggi** dibanding CSP di semua ukuran.\n",
        "- Skor SA meningkat lebih tajam saat ukuran bertambah, menunjukkan eksplorasi solusi lebih optimal.\n",
        "\n",
        "#### ✅ **Pemenuhan Constraint**\n",
        "- CSP hanya memenuhi sekitar 25%–47.5% preferensi.\n",
        "- SA mencapai hingga **92.5% pemenuhan constraint** pada ukuran 20, menunjukkan adaptabilitas terhadap preferensi.\n",
        "\n",
        "#### ✅ **Waktu Eksekusi**\n",
        "- CSP sangat cepat (< 20µs) karena bersifat greedy dan deterministik.\n",
        "- SA sedikit lebih lambat (hingga 17ms), namun **masih tergolong sangat cepat** untuk ukuran kecil-menengah.\n",
        "\n",
        "#### ✅ **Skalabilitas**\n",
        "- SA menunjukkan **kualitas solusi meningkat** seiring ukuran.\n",
        "- CSP stagnan bahkan saat ukuran meningkat → tidak eksploratif.\n",
        "\n",
        "---\n",
        "\n",
        "### 🏁 Kesimpulan:\n",
        "\n",
        "- **CSP cocok untuk solusi cepat dan valid minimal**, namun kualitas solusinya rendah.\n",
        "- **Simulated Annealing unggul dari segi skor, fleksibilitas, dan pemenuhan preferensi**, dengan sedikit trade-off di runtime.\n",
        "- Untuk matching dengan banyak preferensi/atribut, **SA lebih disarankan** terutama saat kualitas lebih penting daripada kecepatan absolut.\n",
        "\n"
      ],
      "metadata": {
        "id": "AfOg5NbeyRHw"
      }
    }
  ]
}